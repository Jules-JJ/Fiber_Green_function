{
 "cells": [
  {
   "cell_type": "markdown",
   "id": "3e142ff1",
   "metadata": {},
   "source": [
    "# Macroscopic body Green's tensor\n",
    "\n",
    "The presence of a macroscopic body in the space surrounding an atom shifts the energy levels of the atom and modifies the spontaneous emission of said atom. In order to understand the coupling of the atom to the macroscopic object we use the Green's tensor method. IN which, we decompose the EM field produced at a point in space $\\vec{r}$ at time $t$ produced by a source at $\\vec{r}'$ at time $t'=0$. This tensor can be decomposed as:\n",
    "\n",
    "$\\pmb{G}(\\vec{r}, \\vec{r}', \\omega) = \\pmb{G}_0(\\vec{r}, \\vec{r}', \\omega) + \\pmb{G}_{sc}(\\vec{r}, \\vec{r}', \\omega)$\n",
    "\n",
    "Where $\\pmb{G}_0 $ is the Green's tensor of a homogeneous medium (vacuum) and $\\pmb{G}_{sc}$ is the scattering due to the presence of the nanofiber.\n",
    "\n",
    "$\\pmb{G}_0 = \\displaystyle \\frac{-\\delta(\\vec{r} - \\vec{r}')}{3k_2^2} \\pmb{1} + \\displaystyle \\frac{e^{ik_2R}}{4\\pi R}\\left[ \\left(1 + \\displaystyle \\frac{ik_2R}{k_2^2 R^2}\\right)\\pmb{1} + \\displaystyle \\frac{3 - 3ik_2R - k_2^2 R^2}{k_2^2 R^2} (\\vec{r}\\otimes \\vec{r}')\\right] $ \n",
    "\n",
    "$R = |\\vec{r} - \\vec{r}'|$, $\\otimes$ : tensor product\n",
    "\n",
    "$k_2^2 = \\displaystyle \\frac{\\omega^2}{c^2}$ wave vector norm in the vacuum.\n",
    "\n",
    "There is a divergence of the Green's tensor for $\\vec{r} = \\vec{r}'$ ($R=0$).\n"
   ]
  },
  {
   "cell_type": "markdown",
   "id": "2a6ef738",
   "metadata": {},
   "source": [
    "**Question** : Where does this Self term come from?"
   ]
  },
  {
   "cell_type": "code",
   "execution_count": 1,
   "id": "8438a321",
   "metadata": {},
   "outputs": [],
   "source": [
    "import scipy\n",
    "import cmath\n",
    "import numpy as np\n",
    "import matplotlib.pyplot as plt\n",
    "from math import *"
   ]
  },
  {
   "cell_type": "code",
   "execution_count": 2,
   "id": "84356cbd",
   "metadata": {},
   "outputs": [],
   "source": [
    "def _G0(r_vect, r_s, w):\n",
    "    \n",
    "    \"\"\"\n",
    "    w = pulsation\n",
    "    r_vect = position to calculate the field vector in cylindrical coordinates\n",
    "    r_s = position vector of the source in cylindrica coordinates\n",
    "    \n",
    "    \"\"\"\n",
    "    \n",
    "    k = w  #c = 1\n",
    "    \n",
    "    #cylindrical coordinates\n",
    "    (r, phi, z) = r_vect\n",
    "    (rs, phis, zs) = r_s\n",
    "    \n",
    "    #Cartesian coordinates\n",
    "    x, y, z = [r*cos(phi), r*sin(phi), z]\n",
    "    xs, ys, zs = [rs*cos(phis), rs*sin(phis), zs]\n",
    "    \n",
    "    Delta_R = r_vect - r_s #distance\n",
    "    R = np.sqrt((x-xs)**2 + (y-ys)**2 + (z-zs)**2)\n",
    "    #print(R)\n",
    "    \n",
    "    RR = 1/R**2 * np.array([[(x-xs)**2, (x-xs)*(y-ys), (x-xs)*(z-zs)], \n",
    "                            [(y-ys)*(x-xs), (y-ys)**2, (y-ys)*(z-zs)], \n",
    "                            [(z-zs)*(x-xs), (y-ys)*(z-zs), (z-zs)**2]])\n",
    "    \n",
    "    \n",
    "    if R == 0:\n",
    "        \n",
    "        #print(\"Divergence\") \n",
    "        G0 = k/(6*pi)*np.identity(3) #Self term\n",
    "        \n",
    "    else:\n",
    "        \n",
    "        #print(\"No divergence\")  \n",
    "        G0 = cmath.exp(1j*k*R)/(4*pi*R)*((1 + (1j*k*R)/(k*R)**2) * np.identity(3) \\\n",
    "                                    + ((3-3*1j*k*R-(k*R)**2)/(k*R)**2) * RR)\n",
    "        \n",
    "    return G0"
   ]
  },
  {
   "cell_type": "markdown",
   "id": "d2303cec",
   "metadata": {},
   "source": [
    "For $r > a$  and  $r' > a$, with $a$ the nanofiber's radius:\n",
    "\n",
    "$\\pmb{G}_{sc}(\\vec{r}, \\vec{r}', \\omega) = \\displaystyle \\frac{i}{8\\pi}\\sum_{\\nu = -\\infty}^{\\infty}\\int_{-\\infty}^{\\infty} \\displaystyle \\frac{d\\beta}{\\eta_2^2} \\left\\{ \\left[A_R \\vec{M}_{\\nu}(\\beta, \\vec{r}) + B_R \\vec{N}_{\\nu}(\\beta, \\vec{r}) \\right]\\vec{M}_{\\nu}^{*}(\\beta, \\vec{r}') + \\left[ C_R \\vec{N}_{\\nu}(\\beta, \\vec{r}) + D_R\\vec{M}_{\\nu}(\\beta, \\vec{r}) \\right]\\vec{N}_{\\nu}^{*}(\\beta, \\vec{r}')\\right\\}$\n",
    "\n",
    "where $\\eta_2 = \\sqrt{k_2^2-\\beta^2}$\n",
    "\n",
    "$\\beta$ : projection of $\\vec{k}$ over the nanofiber's axis.\n",
    "\n",
    "$|\\beta| = \\displaystyle \\frac{\\omega}{c} cos(\\theta_0)$"
   ]
  },
  {
   "cell_type": "code",
   "execution_count": 3,
   "id": "5b582e80",
   "metadata": {},
   "outputs": [],
   "source": [
    "#%% Integrand\n",
    "\n",
    "def IGA(nu, beta, k1, k2, r_vect, r_s, a=1):\n",
    "    \n",
    "    Eta1 = a*np.emath.sqrt(k1**2 - beta**2)\n",
    "    Eta2 = a*np.emath.sqrt(k2**2 - beta**2) #complex for guided modes\n",
    "    k1 = k1*a\n",
    "    k2 = k2*a\n",
    "    \n",
    "    r_vect = r_vect/a\n",
    "    r_obs = r_s/a\n",
    "    \n",
    "    [AR, BR, CR] = scalar_coeffs(nu, a*beta, Eta1, Eta2, k1, k2)\n",
    "    \n",
    "    [M1, N1, M_conj1, N_conj1] = Vector_field_coeffs(r_vect, r_s, nu, beta, Eta2)\n",
    "    \n",
    "    term1 = (AR*M1 + BR*N1)\n",
    "    term2 = (CR*N1 + BR*M1)\n",
    "    \n",
    "    Int_GA = (1j/(8*pi*Eta2**2)) * (np.outer(term1, M_conj1)\n",
    "                                  + np.outer(term2, N_conj1))\n",
    "        \n",
    "    return Int_GA"
   ]
  },
  {
   "cell_type": "markdown",
   "id": "5c93203b",
   "metadata": {},
   "source": [
    "## Vector coefficients\n",
    "\n",
    "$\\vec{M}_{\\nu}, \\vec{N}_{\\nu}$ are vector wavefunctions and $A_R, C_R, B_R = D_R$ some scalar coefficients determined with EM field continuity relations on the surface of the fiber.\n",
    "\n",
    "\n",
    "\\begin{align}\n",
    "\\vec{M}_{\\nu}(\\beta, \\vec{r}) & = \\left[ \\displaystyle \\frac{i\\nu}{r} H_{\\nu}^{(1)}(\\eta r)\\vec{e_r} - \\eta H_{\\nu}^{'(1)}(\\eta r) \\vec{e_{\\varphi}}\\right] e^{i(\\nu \\varphi + \\beta z)}\\\\\n",
    "\\vec{N}_{\\nu}(\\beta, \\vec{r}) & =  \\displaystyle \\frac{1}{\\sqrt{\\eta^2 + \\beta^2}} \\left[ i \\beta \\eta H_{\\nu}^{'(1)}(\\eta r) \\vec{e_r} - \\displaystyle \\frac{\\nu\\beta}{r} H_{\\nu}^{(1)}(\\eta r)\\vec{e_{\\varphi}} + \\eta^2 H_{\\nu}^{(1)}(\\eta r)\\vec{e_z} \\right] e^{i(\\nu \\varphi + \\beta z)} \\\\\n",
    "\\vec{M}_{\\nu}^{*}(\\beta, \\vec{r}) & = \\left[ \\displaystyle -\\frac{i\\nu}{r} H_{\\nu}^{(1)}(\\eta r)\\vec{e_r} - \\eta H_{\\nu}^{'(1)}(\\eta r) \\vec{e_{\\varphi}}\\right] e^{-i(\\nu \\varphi + \\beta z)} \\\\\n",
    "\\vec{N}_{\\nu}^{*}(\\beta, \\vec{r}) & =  \\displaystyle \\frac{1}{\\sqrt{\\eta^2 + \\beta^2}} \\left[ -i \\beta \\eta H_{\\nu}^{'(1)}(\\eta r) \\vec{e_r} - \\displaystyle \\frac{\\nu\\beta}{r} H_{\\nu}^{(1)}(\\eta r)\\vec{e_{\\varphi}} \\eta^2 H_{\\nu}^{(1)}(\\eta r)\\vec{e_z}\\right] e^{-i(\\nu \\varphi + \\beta z)} \\\\\n",
    "\\end{align}\n"
   ]
  },
  {
   "cell_type": "markdown",
   "id": "40799956",
   "metadata": {},
   "source": [
    "To make the coefficients dimentionless $\\bar{r} = r/a$, $\\bar{\\eta} = a \\eta$, $\\bar{\\beta} = a \\beta$\n",
    "\n",
    "\\begin{align}\n",
    "\\vec{M}_{\\nu}(\\beta, \\vec{r}) & = a\\left[ \\displaystyle \\frac{i\\nu}{\\bar{r}} H_{\\nu}^{(1)}(\\bar{\\eta} \\bar{r})\\vec{e_r} - \\bar{\\eta} H_{\\nu}^{'(1)}(\\bar{\\eta} \\bar{r}) \\vec{e_{\\varphi}}\\right] e^{i(\\nu \\varphi + \\beta z)}\\\\\n",
    "\\vec{N}_{\\nu}(\\beta, \\vec{r}) & = \\displaystyle \\frac{1}{a\\sqrt{\\bar{\\eta}^2 + \\bar{\\beta}^2}} \\left[ i \\bar{\\beta} \\bar{\\eta} H_{\\nu}^{'(1)}(\\bar{\\eta}\\bar{r}) \\vec{e_r} - \\displaystyle \\frac{\\nu\\bar{\\beta}}{\\bar{r}} H_{\\nu}^{(1)}(\\bar{\\eta}\\bar{r})\\vec{e_{\\varphi}} + \\bar{\\eta}^2 H_{\\nu}^{(1)}(\\bar{\\eta}\\bar{r})\\vec{e_z} \\right] e^{i(\\nu \\varphi + \\beta z)} \\\\\n",
    "\\vec{M}_{\\nu}^{*}(\\beta, \\vec{r}) & = a \\left[ \\displaystyle -\\frac{i\\nu}{\\bar{r}} H_{\\nu}^{(1)}(\\bar{\\eta} \\bar{r})\\vec{e_r} - \\bar{\\eta} H_{\\nu}^{'(1)}(\\bar{\\eta} \\bar{r}) \\vec{e_{\\varphi}}\\right] e^{-i(\\nu \\varphi + \\beta z)} \\\\\n",
    "\\vec{N}_{\\nu}^{*}(\\beta, \\vec{r}) & = \\displaystyle \\frac{1}{a\\sqrt{\\bar{\\eta}^2 + \\bar{\\beta}^2}} \\left[ -i \\bar{\\beta} \\bar{\\eta} H_{\\nu}^{'(1)}(\\bar{\\eta}\\bar{r}) \\vec{e_r} - \\displaystyle \\frac{\\nu\\bar{\\beta}}{\\bar{r}} H_{\\nu}^{(1)}(\\bar{\\eta}\\bar{r})\\vec{e_{\\varphi}} + \\bar{\\eta}^2 H_{\\nu}^{(1)}(\\bar{\\eta}\\bar{r})\\vec{e_z} \\right] e^{-i(\\nu \\varphi + \\beta z)} \\\\\n",
    "\\end{align}\n"
   ]
  },
  {
   "cell_type": "code",
   "execution_count": 4,
   "id": "b9300c2e",
   "metadata": {},
   "outputs": [],
   "source": [
    "#%% Vector fields\n",
    "\n",
    "def Vector_field_coeffs(r_vect, r_s, nu, beta, eta, a=1): # -> 4 vectors of size (3, 1)\n",
    "    \n",
    "    \"\"\"\n",
    "    nu = mode\n",
    "    beta = integration point in the real line (physically: propagation direction)\n",
    "    r_vect = position to calculate the field vector in cartesian coordinates\n",
    "    r_s = position vector of the source in cartesian coordinates\n",
    "    \n",
    "    \"\"\"\n",
    "    # Observation vector cartesian\n",
    "    (x, y, z) = r_vect\n",
    "    \n",
    "    r = np.sqrt(x**2 + y**2) #distance from axis\n",
    "    phi = asin(y/r) #angle\n",
    "    \n",
    "    #r, phi, z = r_vect #cylindrical\n",
    "    \n",
    "    er = np.array([cos(phi), sin(phi), 0]) #radial unity vector\n",
    "    ephi = np.array([-sin(phi), cos(phi), 0]) #angular unity vector\n",
    "    ez = np.array([0, 0, 1]) #axis unity vector\n",
    "    \n",
    "    Hn = scipy.special.hankel1(nu, eta*r)\n",
    "    Hn_prime = scipy.special.h1vp(nu, eta*r)\n",
    "    \n",
    "    #Source vector\n",
    "    (xs, ys, zs) = r_s\n",
    "    \n",
    "    rs = np.sqrt(xs**2 + ys**2) #distance from axis \n",
    "    phi_s = asin(ys/rs) #angle\n",
    "    \n",
    "    #rs, phi_s, zs = r_s\n",
    "    \n",
    "    er_s = np.array([cos(phi_s), sin(phi_s), 0]) #radial unity vector\n",
    "    ephi_s = np.array([-sin(phi_s), cos(phi_s), 0]) #angular unity vector\n",
    "    ez_s = np.array([0, 0, 1]) #axis unity vector\n",
    "    \n",
    "    Hn_s = scipy.special.hankel1(nu, eta*rs)\n",
    "    Hn_prime_s = scipy.special.h1vp(nu, eta*rs)\n",
    "    \n",
    "    M = a*((1j*nu/r)*Hn*er - eta*Hn_prime*ephi) * cmath.exp(1j*(nu*phi + beta*z))\n",
    "    \n",
    "    N = (1/a)*(1/cmath.sqrt(eta**2 + beta**2)) * (1j*eta*beta*Hn_prime*er - (nu*beta/r)*Hn*ephi + eta**2*Hn*ez) * cmath.exp(1j*(nu*phi + beta*z))\n",
    "    \n",
    "    M_conj = a*((-1j*nu/rs)*Hn_s*er_s - eta*Hn_prime_s*ephi_s) * cmath.exp(-1j*(nu*phi_s + beta*zs))\n",
    "    \n",
    "    N_conj = (1/a)*(1/cmath.sqrt(eta**2 + beta**2)) * (-1j*eta*beta*Hn_prime_s*er_s - (nu*beta/rs)*Hn_s*ephi_s + eta**2*Hn_s*ez_s) * cmath.exp(-1j*(nu*phi_s + beta*zs))\n",
    "    \n",
    "    return [M, N, M_conj, N_conj]"
   ]
  },
  {
   "cell_type": "code",
   "execution_count": 5,
   "id": "1b06f07b",
   "metadata": {},
   "outputs": [
    {
     "data": {
      "text/plain": [
       "[array([0.        +0.j        , 0.89512827-0.05180129j,\n",
       "        0.        +0.j        ]),\n",
       " array([-0.03662904-0.63295127j,  0.        +0.j        ,\n",
       "         0.2398311 +0.48901885j]),\n",
       " array([ 0.        +0.j        , -0.41960758-0.79238089j,\n",
       "         0.        +0.j        ]),\n",
       " array([0.5602979 -0.29670736j, 0.        +0.j        ,\n",
       "        0.34485863-0.42158145j])]"
      ]
     },
     "execution_count": 5,
     "metadata": {},
     "output_type": "execute_result"
    }
   ],
   "source": [
    "Vector_field_coeffs(np.array([1, 0, 1]), np.array([1, 0, 1]), nu = 0, beta = 1, eta = 1)"
   ]
  },
  {
   "cell_type": "code",
   "execution_count": 6,
   "id": "d51bbeb9",
   "metadata": {},
   "outputs": [
    {
     "name": "stdout",
     "output_type": "stream",
     "text": [
      "[array([0.        +0.j        , 0.89512827-0.05180129j,\n",
      "       0.        +0.j        ]), array([-0.03662904-0.63295127j,  0.        +0.j        ,\n",
      "        0.2398311 +0.48901885j])] \n",
      "\n",
      "[array([ 0.        +0.j        , -0.41960758-0.79238089j,\n",
      "        0.        +0.j        ]), array([0.5602979 -0.29670736j, 0.        +0.j        ,\n",
      "       0.34485863-0.42158145j])]\n"
     ]
    }
   ],
   "source": [
    "def  MN(nu, eta, beta, r_vect):\n",
    "    \n",
    "    \"\"\"\"\n",
    "    nu = mode\n",
    "    beta = integration point in the real line (physically: propagation direction)\n",
    "    r_vect = position to calculate the field vector in cartesian coordinates\n",
    "    \"\"\"\n",
    "    \n",
    "    #Cartesian coordinates\n",
    "    (x, y, z) = r_vect\n",
    "    \n",
    "    r = sqrt(x**2 + y**2) #distance from axis\n",
    "    phi = asin(y/r) #angle\n",
    "    \n",
    "    er = np.array([cos(phi), sin(phi), 0]) #radial unity vector\n",
    "    ephi = np.array([-sin(phi), cos(phi), 0]) #angular unity vector\n",
    "    ez = np.array([0, 0, 1]) #axis unity vector\n",
    "    \n",
    "    Hn = scipy.special.hankel1(nu, eta*r)\n",
    "    Hn_prime = scipy.special.h1vp(nu, eta*r)\n",
    "    \n",
    "    M = (1j*nu/r*Hn*er - eta*Hn_prime*ephi) * cmath.exp(1j*nu*phi+1j*beta*z)\n",
    "    \n",
    "    N = 1/cmath.sqrt(eta**2+beta**2) * (1j*beta*eta*Hn_prime*er - nu*beta/r*Hn*ephi + eta**2*Hn*ez) * cmath.exp(1j*nu*phi+1j*beta*z)\n",
    "\n",
    "    return [M, N]\n",
    "\n",
    "print(MN(0, 1, 1, np.array([1, 0, 1])), \"\\n\")\n",
    "\n",
    "def MbNb(nu, eta, beta, r_vect):\n",
    "    \n",
    "    \"\"\"\"\n",
    "    nu = mode\n",
    "    beta = integration point in the real line (physically: propagation direction)\n",
    "    r_vect = position to calculate the field vector in cartesian coordinates\n",
    "    \"\"\"\n",
    "    \n",
    "    #Cartesian coordinates\n",
    "    (x, y, z) = r_vect\n",
    "    \n",
    "    r = sqrt(x**2 + y**2) #distance from axis\n",
    "    phi = asin(y/r) #angle\n",
    "    \n",
    "    er = np.array([cos(phi), sin(phi), 0]) #radial unity vector\n",
    "    ephi = np.array([-sin(phi), cos(phi), 0]) #angular unity vector\n",
    "    ez = np.array([0, 0, 1]) #axis unity vector\n",
    "    \n",
    "    Hn = scipy.special.hankel1(nu, eta*r)\n",
    "    Hn_prime = scipy.special.h1vp(nu, eta*r)\n",
    "    \n",
    "    Mconj = (-1j*nu/r*Hn*er - eta*Hn_prime*ephi ) * cmath.exp(-1j*nu*phi-1j*beta*z)\n",
    "    Nconj = 1/sqrt(eta**2+beta**2) * (-1j*beta*eta*Hn_prime*er - nu*beta/r*Hn*ephi + eta**2*Hn*ez) * cmath.exp(-1j*nu*phi-1j*beta*z)\n",
    "    \n",
    "    return [Mconj, Nconj]\n",
    "\n",
    "print(MbNb(0, 1, 1, np.array([1, 0, 1])))\n"
   ]
  },
  {
   "cell_type": "markdown",
   "id": "d3853695",
   "metadata": {},
   "source": [
    "## Scalar coefficients\n",
    "\n",
    "\\begin{align}\n",
    "A_R &= \\displaystyle \\frac{1}{W_R} \\displaystyle \\frac{J_{\\nu}(\\eta_2 a)}{H_{\\nu}^{(1)}(\\eta_2 a)} \\left[ \\displaystyle \\frac{\\nu^2 \\beta^2}{a^2} \\left( \\frac{1}{\\eta_2^2} - \\frac{1}{\\eta_1^2} \\right)^2 \\left( \\frac{J_{\\nu}^{'}(\\eta_1 a)}{\\eta_1 J_{\\nu}(\\eta_1 a)} - \\frac{J_{\\nu}^{'}(\\eta_2 a)}{\\eta_2 J_{\\nu}(\\eta_2 a)}  \\right) \\left( \\frac{k_1^2 J_{\\nu}^{'}(\\eta_1 a)}{\\eta_1 J_{\\nu}(\\eta_1 a)} - \\frac{k_2^2 H_{\\nu}^{'(1)}(\\eta_2 a)}{\\eta_2 H_{\\nu}^{(1)}(\\eta_2 a)}  \\right)\\right] \\\\\n",
    "C_R &= \\displaystyle \\frac{1}{W_R} \\displaystyle \\frac{J_{\\nu}(\\eta_2 a)}{H_{\\nu}^{(1)}(\\eta_2 a)}  \\left[\\displaystyle \\frac{\\nu^2 \\beta^2}{a^2} \\left( \\frac{1}{\\eta_2^2} - \\frac{1}{\\eta_1^2} \\right)^2 \\left( \\frac{J_{\\nu}^{'}(\\eta_1 a)}{\\eta_1 J_{\\nu}(\\eta_1 a)} - \\frac{H_{\\nu}^{'(1)}(\\eta_2 a)}{\\eta_2 H_{\\nu}^{(1)}(\\eta_2 a)}  \\right) \\left( \\frac{k_1^2 J_{\\nu}^{'}(\\eta_1 a)}{\\eta_1 J_{\\nu}(\\eta_1 a)} - \\frac{k_2^2 J_{\\nu}^{'}(\\eta_2 a)}{\\eta_2 J_{\\nu}(\\eta_2 a)}  \\right) \\right]\\\\\n",
    "B_R = D_R &= \\displaystyle \\frac{1}{W_R} \\displaystyle \\frac{J_{\\nu}(\\eta_2 a)}{H_{\\nu}^{(1)}(\\eta_2 a)} \\displaystyle \\frac{\\nu \\beta}{a} \\frac{k_2}{\\eta_2} \\left( \\frac{1}{\\eta_2^2} - \\frac{1}{\\eta_1^2} \\right) \\left( \\frac{J_{\\nu}^{'}(\\eta_2 a)}{J_{\\nu}(\\eta_2 a)} - \\frac{H_{\\nu}^{'(1)}(\\eta_2 a)}{H_{\\nu}^{(1)}(\\eta_2 a)}  \\right) \\\\\n",
    "\\end{align}"
   ]
  },
  {
   "cell_type": "markdown",
   "id": "e20d20f2",
   "metadata": {},
   "source": [
    "To make these coefficients dimentionless : $\\bar{r} = r/a$, $\\bar{\\eta} = a \\eta$, $\\bar{\\beta} = a \\beta$ ans $\\bar{k} = a k $\n",
    "\n",
    "\\begin{align}\n",
    "A_R &= \\displaystyle \\frac{1}{W_R} \\displaystyle \\frac{J_{\\nu}(\\bar{\\eta_2})}{H_{\\nu}^{(1)}(\\bar{\\eta_2})} \\left[ (\\nu \\bar{\\beta})^2 \\left( \\frac{1}{\\bar{\\eta}_2^2} -  \\frac{1}{\\bar{\\eta}_1^2} \\right)^2 - \\left( \\frac{J_{\\nu}^{'}(\\bar{\\eta_1})}{\\bar{\\eta}_1 J_{\\nu}(\\bar{\\eta_1})} - \\frac{J_{\\nu}^{'}(\\bar{\\eta_2})}{\\bar{\\eta}_2 J_{\\nu}(\\bar{\\eta_2})}  \\right) \\left( \\frac{\\bar{k}_1^2 J_{\\nu}^{'}(\\bar{\\eta_1})}{\\bar{\\eta}_1 J_{\\nu}(\\bar{\\eta_1})} - \\frac{\\bar{k}_2^2 H_{\\nu}^{'(1)}(\\bar{\\eta_2})}{\\bar{\\eta}_2 H_{\\nu}^{(1)}(\\bar{\\eta_2})}  \\right)\\right] \\\\\n",
    "C_R &= \\displaystyle \\frac{1}{W_R} \\displaystyle \\frac{J_{\\nu}(\\bar{\\eta}_2)}{H_{\\nu}^{(1)}(\\bar{\\eta}_2)}  \\left[(\\nu \\bar{\\beta})^2 \\left( \\frac{1}{\\bar{\\eta}_2^2} -  \\frac{1}{\\bar{\\eta}_1^2} \\right)^2   - \\left( \\frac{J_{\\nu}^{'}(\\bar{\\eta_1})}{\\bar{\\eta}_1 J_{\\nu}(\\bar{\\eta_1})} - \\frac{H_{\\nu}^{'(1)}(\\bar{\\eta_2})}{\\bar{\\eta}_2 H_{\\nu}^{(1)}(\\bar{\\eta_2})}  \\right) \\left( \\frac{\\bar{k}_1^2 J_{\\nu}^{'}(\\bar{\\eta_1})}{\\bar{\\eta}_1 J_{\\nu}(\\bar{\\eta_1})} - \\frac{\\bar{k}_2^2 J_{\\nu}^{'}(\\bar{\\eta_2})}{\\bar{\\eta}_2 J_{\\nu}(\\bar{\\eta_2})}  \\right) \\right]\\\\\n",
    "B_R = D_R &= \\displaystyle \\frac{1}{W_R} \\displaystyle \\frac{J_{\\nu}(\\bar{\\eta}_2)}{H_{\\nu}^{(1)}(\\bar{\\eta}_2)}\\nu \\bar{\\beta} \\frac{\\bar{k}_2}{\\bar{\\eta}_2} \\left( \\frac{1}{\\bar{\\eta}_2^2} - \\frac{1}{\\bar{\\eta}_1^2} \\right) \\left( \\frac{J_{\\nu}^{'}(\\bar{\\eta_2})}{J_{\\nu}(\\bar{\\eta_2})} - \\frac{H_{\\nu}^{'(1)}(\\bar{\\eta_2})}{H_{\\nu}^{(1)}(\\bar{\\eta_2})}  \\right) \\\\\n",
    "\\end{align}\n"
   ]
  },
  {
   "cell_type": "code",
   "execution_count": 7,
   "id": "1eceb690",
   "metadata": {},
   "outputs": [],
   "source": [
    "def scalar_coeffs(nu, beta, eta1_norm, eta2_norm, k1_norm, k2_norm, a=1):\n",
    "    \n",
    "    \"\"\"\n",
    "    nu = mode\n",
    "    beta = dimentionless integration point in the real line (physically: propagation direction)\n",
    "    eta i_norm: eta_i*a \n",
    "    k i_norm: k_i*a  \n",
    "    \n",
    "    \"\"\"\n",
    "    \n",
    "    #Bessel fucntions\n",
    "    J1 = scipy.special.jv(nu, eta1_norm)\n",
    "    J2 = scipy.special.jv(nu, eta2_norm)\n",
    "    \n",
    "    #H2 = Hankel_n(nu, eta2*a)\n",
    "    H2 = scipy.special.hankel1(nu, eta2_norm) #complex\n",
    "    \n",
    "    #Derivatives of the bessel functions\n",
    "    JD1 = scipy.special.jvp(nu, eta1_norm)\n",
    "    JD2 = scipy.special.jvp(nu, eta2_norm)\n",
    "    \n",
    "    #HD2 = Hankel_n_prime(nu, eta2*a)\n",
    "    HD2 = scipy.special.h1vp(nu, eta2_norm) #complex\n",
    "    \n",
    "    W = WR(nu, beta, eta1_norm, eta2_norm, k1_norm, k2_norm)\n",
    "    \n",
    "    A = (1/W)*(J2/H2) * ((nu*beta*a)**2 * (1/(eta2_norm**2) - 1/(eta1_norm**2))**2 \\\n",
    "          - (JD1/(eta1_norm*J1) - JD2/(eta2_norm*J2)) * ((k1_norm**2*JD1)/(eta1_norm*J1) - (k2_norm**2*HD2)/(eta2_norm*H2)))\n",
    "    \n",
    "    B = (1/W)*(J2/H2) * (k2_norm*nu*beta*a/(eta2_norm))*(1/(eta2_norm**2) - 1/(eta1_norm**2))*(JD2/J2 - HD2/H2)\n",
    "\n",
    "    C = (1/W)*(J2/H2) * ((nu*beta*a)**2 * (1/(eta2_norm**2) - 1/(eta1_norm**2))**2 \\\n",
    "        - (JD1/(eta1_norm*J1) - HD2/(eta2_norm*H2))*((k1_norm**2*JD1)/(eta1_norm*J1) - (k2_norm**2*JD2)/(eta2_norm*J2)))\n",
    "        \n",
    "    return [A, B, C] #D=B"
   ]
  },
  {
   "cell_type": "markdown",
   "id": "b5257195",
   "metadata": {},
   "source": [
    "$W_R = \\displaystyle \\frac{\\nu^2 \\beta^2}{a^2} \\left( \\frac{1}{\\eta_2^2} - \\frac{1}{\\eta_1^2} \\right)^2 + \\left( \\frac{J_{\\nu}^{'}(\\eta_1 a)}{\\eta_1 J_{\\nu}(\\eta_1 a)} - \\frac{H_{\\nu}^{'(1)}(\\eta_2 a)}{\\eta_2 H_{\\nu}^{(1)}(\\eta_2 a)}  \\right) \\left( \\frac{k_1^2 J_{\\nu}^{'}(\\eta_1 a)}{\\eta_1 J_{\\nu}(\\eta_1 a)} - \\frac{k_2^2 H_{\\nu}^{'(1)}(\\eta_2 a)}{\\eta_2 H_{\\nu}^{(1)}(\\eta_2 a)}  \\right)$\n",
    "\n",
    "If we make it dimentionless:\n",
    "\n",
    "$W_R = \\displaystyle (\\nu \\bar{\\beta})^2 \\left( \\frac{1}{\\bar{\\eta}_2^2} - \\frac{1}{\\bar{\\eta}_1^2} \\right)^2 + \\left( \\frac{J_{\\nu}^{'}(\\bar{\\eta}_1)}{\\bar{\\eta}_1 J_{\\nu}(\\bar{\\eta}_1)} - \\frac{H_{\\nu}^{'(1)}(\\bar{\\eta}_2)}{\\bar{\\eta}_2 H_{\\nu}^{(1)}(\\bar{\\eta}_2)}  \\right) \\left( \\frac{\\bar{k}_1^2 J_{\\nu}^{'}(\\bar{\\eta}_1)}{\\bar{\\eta}_1 J_{\\nu}(\\bar{\\eta}_1)} - \\frac{\\bar{k}_2^2 H_{\\nu}^{'(1)}(\\bar{\\eta}_2)}{\\bar{\\eta}_2 H_{\\nu}^{(1)} (\\bar{\\eta}_2)}  \\right)$"
   ]
  },
  {
   "cell_type": "code",
   "execution_count": 8,
   "id": "56bd46df",
   "metadata": {},
   "outputs": [],
   "source": [
    "def WR(nu, beta, eta1_norm, eta2_norm, k1_norm, k2_norm, a=1): \n",
    "    \n",
    "    \"\"\"\n",
    "    nu = mode\n",
    "    beta = dimentionless integration point in the real line (physically: propagation direction) \n",
    "    eta i_norm: eta_i*a \n",
    "    k i_norm: k_i*a  \n",
    "    \n",
    "    \"\"\"\n",
    "    \n",
    "    #Bessel fucntions\n",
    "    J1 = scipy.special.jv(nu, eta1_norm)\n",
    "    H2 = scipy.special.hankel1(nu, eta2_norm)\n",
    "    \n",
    "    #Derivatives of the bessel functions\n",
    "    JD1 = scipy.special.jvp(nu, eta1_norm)\n",
    "    HD2 = scipy.special.h1vp(nu, eta2_norm)\n",
    "\n",
    "    W = -(nu*beta)**2 * (1/(eta2_norm**2) - 1/(eta1_norm**2))**2 \\\n",
    "       + (JD1/(eta1_norm*J1) - HD2/(eta2_norm*H2))*(k1_norm**2*JD1/(eta1_norm*J1) - k2_norm**2*HD2/(eta2_norm*H2))\n",
    "\n",
    "    return W"
   ]
  },
  {
   "cell_type": "markdown",
   "id": "b45ff8f7",
   "metadata": {},
   "source": [
    "$W_R = 0 $ is the caracteristic equation of the optical fiber for the guided modes. It is invariant under the exchange  $\\nu \\rightarrow -\\nu$."
   ]
  },
  {
   "cell_type": "markdown",
   "id": "31d05956",
   "metadata": {},
   "source": [
    "## Poles\n",
    "\n",
    "\n",
    "*  For $|\\beta| < \\left| \\displaystyle \\frac{\\omega}{c} \\right| < \\left|\\displaystyle \\frac{n_f \\ \\omega}{c}\\right| $ :  fields are decomposed on radiative modes.\n",
    "\n",
    "    *  There is a pole for $ |\\beta| = \\left| \\displaystyle \\frac{\\omega}{c} \\right| $\n",
    "\n",
    "*  For $ \\left| \\displaystyle \\frac{\\omega}{c}\\right| < |\\beta| < \\left|\\displaystyle \\frac{n_f \\ \\omega}{c}\\right| $ :  fields are decomposed on guided modes.\n",
    "\n",
    "    *  There is a pole for $ |\\beta| = \\left| \\displaystyle \\frac{n_f \\ \\omega}{c} \\right| $\n",
    "\n",
    "    *  There is some poles $\\beta_g$ for $\\pmb{G}_{sc}$ that correspond to the guded modes ($W_R = 0$).\n",
    "\n",
    "*  For $ \\left| \\displaystyle \\frac{\\omega}{c} \\right| < \\left|\\displaystyle \\frac{n_f \\ \\omega}{c}\\right| < |\\beta| $ : fields do not propagate!"
   ]
  },
  {
   "cell_type": "code",
   "execution_count": 9,
   "id": "c387c90c",
   "metadata": {},
   "outputs": [],
   "source": [
    "import scipy\n",
    "import cmath\n",
    "import numpy as np\n",
    "import matplotlib.pyplot as plt\n",
    "from math import *\n",
    "\n",
    "n_f = 1.45 #index of refraction nanofiber\n",
    "n_env = 1 #index of refraction environnement\n",
    "# eps_f = n_f**2\n",
    "# eps_env = 1\n",
    "\n",
    "\n",
    "#We are going to find the poles with k0 and nu\n",
    "k0 = 5  \n",
    "nu_value = 0 #terme dans la somme (mode)\n",
    "\n",
    "step = 1e-3\n",
    "\n",
    "Line_beta = np.arange(k0+step, n_f*k0-step, step) #---> THIS ONE WORKS"
   ]
  },
  {
   "cell_type": "code",
   "execution_count": 10,
   "id": "517b47ad",
   "metadata": {},
   "outputs": [
    {
     "name": "stdout",
     "output_type": "stream",
     "text": [
      "[5.001 5.002 5.003 ... 7.246 7.247 7.248]\n"
     ]
    }
   ],
   "source": [
    "print(Line_beta)"
   ]
  },
  {
   "cell_type": "code",
   "execution_count": 11,
   "id": "747b752e",
   "metadata": {},
   "outputs": [
    {
     "data": {
      "text/plain": [
       "Text(0.5, 1.0, 'Pole search for $\\\\nu$ = 0')"
      ]
     },
     "execution_count": 11,
     "metadata": {},
     "output_type": "execute_result"
    },
    {
     "data": {
      "image/png": "[encoded data removed]",
      "text/plain": [
       "<Figure size 640x480 with 1 Axes>"
      ]
     },
     "metadata": {},
     "output_type": "display_data"
    }
   ],
   "source": [
    "k2 = k0*np.ones(np.shape(Line_beta)) #w/c\n",
    "k1 = n_f*k0*np.ones(np.shape(Line_beta)) #nf*w/c\n",
    "\n",
    "Line_Eta1 = np.emath.sqrt(np.power(k1, 2) - np.power(Line_beta, 2))\n",
    "Line_Eta2 = np.emath.sqrt(np.power(k2, 2) - np.power(Line_beta, 2))\n",
    "\n",
    "result = abs(WR(nu_value, Line_beta, Line_Eta1, Line_Eta2, k1, k2))\n",
    "#Poles when WR = 0, however to refine the pole search we can use log(WR)\n",
    "#log(WR -> 0) -> -oo se we just have to grab the values for beta that make log(WR) < 0\n",
    "\n",
    "result_l = np.log(result) \n",
    "result_dl = np.gradient(result_l)\n",
    "\n",
    "#figure\n",
    "plt.figure()\n",
    "plt.plot(Line_beta, result_l, label=r\"$ln(W_R)$\")\n",
    "plt.plot(Line_beta, result_dl, label=r\"$ln(W_R)'$\")\n",
    "plt.legend(loc=\"upper left\")\n",
    "plt.xlabel(r'$\\beta$')\n",
    "plt.title(\"Pole search for \" + r\"$\\nu$\" + \" = {}\".format(nu_value))"
   ]
  },
  {
   "cell_type": "code",
   "execution_count": 12,
   "id": "6ac1dd40",
   "metadata": {},
   "outputs": [
    {
     "name": "stdout",
     "output_type": "stream",
     "text": [
      "Number of poles for the guided mode :  2\n"
     ]
    }
   ],
   "source": [
    "#%% Pole calculation with gradient\n",
    "\n",
    "beta_pole = []\n",
    "pole_index = []\n",
    "\n",
    "for index in range(len(result_dl)-1): \n",
    "    if result_l[index] < 0 and (result_dl[index] < 0 and result_dl[index+1] > 0): \n",
    "        # print(\"i:\", index)\n",
    "        # print(\"beta:\", Line_beta[index])\n",
    "            \n",
    "        beta_pole.append(Line_beta[index])\n",
    "        pole_index.append(index)\n",
    "            \n",
    "        #beta_pole.append([nu, Line_beta[index], index])\n",
    "        \n",
    "number_of_poles = len(beta_pole)\n",
    "print(\"Number of poles for the guided mode : \", number_of_poles)"
   ]
  },
  {
   "cell_type": "markdown",
   "id": "180e0c24",
   "metadata": {},
   "source": [
    "The type of pole can be determined with the following:\n",
    "\n",
    "*  If $\\nu = 0$ we can have two types of modes, TE and TM:\n",
    "    *  If $\\displaystyle \\frac{J_{0}^{'}(\\bar{\\eta}_1)}{\\bar{\\eta}_1 J_{0}(\\bar{\\eta}_1)} = \\frac{H_{0}^{'(1)}(\\bar{\\eta}_2)}{\\bar{\\eta}_2 H_{0}^{(1)}(\\bar{\\eta}_2) }$ the mode is TM.\n",
    "    *  If $\\displaystyle \\frac{\\bar{k}_{1}^{2} J_{0}^{'}(\\bar{\\eta}_1)}{\\bar{\\eta}_1 J_{0}(\\bar{\\eta}_1)} = \\frac{\\bar{k}_{2}^{2} H_{0}^{'(1)}(\\bar{\\eta}_2)}{\\bar{\\eta}_2 H_{0}^{(1)}(\\bar{\\eta}_2) }$ the mode is TE."
   ]
  },
  {
   "cell_type": "raw",
   "id": "2b0a48a6",
   "metadata": {},
   "source": [
    "for i in pole_index:\n",
    "    \n",
    "    J0_1 = scipy.special.jv(0, Line_Eta1[i])\n",
    "\n",
    "    #H2 = Hankel_n(nu, eta2*a)\n",
    "    H2 = scipy.special.hankel1(0, Line_Eta2[i]) #complex\n",
    "    \n",
    "    #Derivatives of the bessel functions\n",
    "    JD0_1 = scipy.special.jvp(0, Line_Eta1[i])\n",
    "\n",
    "    #HD2 = Hankel_n_prime(nu, eta2*a)\n",
    "    HD2 = scipy.special.h1vp(0, Line_Eta2[i]) #complex\n",
    "\n",
    "    if nu_value == 0:\n",
    "    \n",
    "        if JD0_1/(Line_Eta1[i] * J0_1) == HD2/(Line_Eta2[i] * H2):\n",
    "        \n",
    "            print(\"Mode TM\")\n",
    "        \n",
    "        if k1[i]**2 * JD0_1/(Line_Eta1[i] * J0_1) == k2[i]**2 * HD2/(Line_Eta2[i] * H2):\n",
    "            \n",
    "            print(\"Mode TE\")"
   ]
  },
  {
   "cell_type": "markdown",
   "id": "7390a76d",
   "metadata": {},
   "source": [
    "## Principal value calculation\n",
    "\n",
    "For a singularity at a finite number $b$ and at infinity:\n",
    "\n",
    "$ PV[f(x)] = \\displaystyle  \\lim_{R \\to \\infty} \\  \\lim_{\\epsilon \\to 0^{+}} \\left[ \\int_{-R}^{b-\\epsilon} f(x) dx +  \\int_{b+\\epsilon}^{R}  f(x) dx \\right] $\n",
    "\n",
    "The result of this procedure is the same as the original integral:\n",
    "\n",
    "$PV[f(x)] \\rightarrow \\displaystyle \\int_{-\\infty}^{\\infty} f(x) dx$ for $R \\to \\infty, \\epsilon \\to 0^{+}$.\n",
    "\n",
    "For a complex-valued function : ...\n"
   ]
  },
  {
   "cell_type": "code",
   "execution_count": 13,
   "id": "2124c015",
   "metadata": {},
   "outputs": [
    {
     "name": "stdout",
     "output_type": "stream",
     "text": [
      "Number of poles for mode nu = -5:  0\n",
      "Number of poles for mode nu = -4:  0\n",
      "Number of poles for mode nu = -3:  1\n",
      "Number of poles for mode nu = -2:  1\n",
      "Number of poles for mode nu = -1:  3\n",
      "Number of poles for mode nu = 0:  2\n",
      "Number of poles for mode nu = 1:  3\n",
      "Number of poles for mode nu = 2:  1\n",
      "Number of poles for mode nu = 3:  1\n",
      "Number of poles for mode nu = 4:  0\n",
      "Number of poles for mode nu = 5:  0\n"
     ]
    }
   ],
   "source": [
    "rA = np.array([2, 0, 0]) #coordinate of the evaluation point (nm)\n",
    "rB = np.array([2, 0, 10]) #coordinate of the source point (nm)\n",
    "\n",
    "nu = [-5, -4, -3, -2, -1, 0, 1, 2, 3, 4, 5] #terme dans la somme (mode)\n",
    "\n",
    "I = 0\n",
    "\n",
    "for nu_value in nu:\n",
    "    \n",
    "    result = abs(WR(nu_value, Line_beta, Line_Eta1, Line_Eta2, k1, k2))\n",
    "    #Poles when WR = 0, however to refine the pole search we can use log(WR)\n",
    "    #log(WR -> 0) -> -oo se we just have to grab the values for beta that make log(WR) < 0\n",
    "\n",
    "    result_l = np.log(result) \n",
    "    result_dl = np.gradient(result_l)\n",
    "\n",
    "    # #figure\n",
    "    # plt.figure()\n",
    "    # plt.plot(Line_beta, result_l, label=r\"$ln(W_R)$\")\n",
    "    # plt.plot(Line_beta, result_dl, label=r\"$ln(W_R)'$\")\n",
    "    # plt.legend(loc=\"upper left\")\n",
    "    # plt.xlabel(r'$\\beta$')\n",
    "\n",
    "    #%% Pole calculation with gradient\n",
    "\n",
    "    beta_pole = []\n",
    "    pole_index = []\n",
    "\n",
    "    for index in range(len(result_dl)-1): \n",
    "        if result_l[index] < 0 and (result_dl[index] < 0 and result_dl[index+1] > 0): \n",
    "            # print(\"i:\", index)\n",
    "            # print(\"beta:\", Line_beta[index])\n",
    "            \n",
    "            beta_pole.append(Line_beta[index])\n",
    "            pole_index.append(index)\n",
    "            \n",
    "            #beta_pole.append([nu, Line_beta[index], index])\n",
    "        \n",
    "    number_of_poles = len(beta_pole)\n",
    "\n",
    "    print(\"Number of poles for mode nu = {}: \".format(nu_value), number_of_poles)\n",
    "\n",
    "    # TODO: how to identify which mode it is?\n",
    "\n",
    "    #%% Principal value calculation for a given mode\n",
    "\n",
    "    #Integral between k1 and k2.\n",
    "\n",
    "    for i in range(len(Line_beta)-1):\n",
    "            \n",
    "        if i in pole_index:\n",
    "            \n",
    "            continue #avoid pole\n",
    "        \n",
    "        else:\n",
    "            \n",
    "            #print(i)\n",
    "            \n",
    "            I += (step/2) * (IGA(nu_value, Line_beta[i], k1[i], k2[i], rA, rB) \\\n",
    "                              +IGA(nu_value, Line_beta[i+1], k1[i+1], k2[i], rA, rB) ) #complex values\n"
   ]
  },
  {
   "cell_type": "code",
   "execution_count": 14,
   "id": "979d7fbd",
   "metadata": {},
   "outputs": [],
   "source": [
    "TotalG = _G0(rA, rB, k0) + I"
   ]
  },
  {
   "cell_type": "code",
   "execution_count": 15,
   "id": "8262174f",
   "metadata": {},
   "outputs": [
    {
     "name": "stdout",
     "output_type": "stream",
     "text": [
      "[[ 7.28108438e-03-1.91713277e-03j -3.24268451e-20+2.46460858e-19j\n",
      "   9.77751191e-06-2.61575461e-05j]\n",
      " [ 1.77847341e-20-2.59368505e-19j  7.04352650e-03-1.83322606e-03j\n",
      "   5.91083800e-20+4.10051319e-20j]\n",
      " [-9.77751191e-06+2.61575461e-05j  6.43989436e-20+4.07083052e-20j\n",
      "  -7.09360633e-05-3.18735432e-04j]]\n"
     ]
    }
   ],
   "source": [
    "print(TotalG)"
   ]
  },
  {
   "cell_type": "markdown",
   "id": "f9a0a329",
   "metadata": {},
   "source": [
    "Not divergent...\n",
    "\n",
    "**Question** :  What observable do I test?"
   ]
  }
 ],
 "metadata": {
  "kernelspec": {
   "display_name": "Python 3 (ipykernel)",
   "language": "python",
   "name": "python3"
  },
  "language_info": {
   "codemirror_mode": {
    "name": "ipython",
    "version": 3
   },
   "file_extension": ".py",
   "mimetype": "text/x-python",
   "name": "python",
   "nbconvert_exporter": "python",
   "pygments_lexer": "ipython3",
   "version": "3.11.5"
  }
 },
 "nbformat": 4,
 "nbformat_minor": 5
}
